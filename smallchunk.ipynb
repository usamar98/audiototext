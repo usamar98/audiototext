{
 "cells": [
  {
   "cell_type": "code",
   "execution_count": 53,
   "metadata": {
    "scrolled": true
   },
   "outputs": [
    {
     "name": "stdout",
     "output_type": "stream",
     "text": [
      "Requirement already satisfied: ibm_watson in e:\\anaconda\\lib\\site-packages (5.1.0)Note: you may need to restart the kernel to use updated packages.\n",
      "Requirement already satisfied: websocket-client==0.48.0 in e:\\anaconda\\lib\\site-packages (from ibm_watson) (0.48.0)\n",
      "Requirement already satisfied: ibm-cloud-sdk-core>=3.3.6 in e:\\anaconda\\lib\\site-packages (from ibm_watson) (3.8.0)\n",
      "Requirement already satisfied: requests<3.0,>=2.0 in e:\\anaconda\\lib\\site-packages (from ibm_watson) (2.24.0)\n",
      "Requirement already satisfied: python-dateutil>=2.5.3 in e:\\anaconda\\lib\\site-packages (from ibm_watson) (2.8.1)\n",
      "Requirement already satisfied: six in e:\\anaconda\\lib\\site-packages (from websocket-client==0.48.0->ibm_watson) (1.15.0)\n",
      "Requirement already satisfied: PyJWT<3.0.0,>=2.0.1 in e:\\anaconda\\lib\\site-packages (from ibm-cloud-sdk-core>=3.3.6->ibm_watson) (2.0.1)\n",
      "Requirement already satisfied: urllib3!=1.25.0,!=1.25.1,<1.26,>=1.21.1 in e:\\anaconda\\lib\\site-packages (from requests<3.0,>=2.0->ibm_watson) (1.25.11)\n",
      "Requirement already satisfied: certifi>=2017.4.17 in e:\\anaconda\\lib\\site-packages (from requests<3.0,>=2.0->ibm_watson) (2020.6.20)\n",
      "Requirement already satisfied: idna<3,>=2.5 in e:\\anaconda\\lib\\site-packages (from requests<3.0,>=2.0->ibm_watson) (2.10)\n",
      "Requirement already satisfied: chardet<4,>=3.0.2 in e:\\anaconda\\lib\\site-packages (from requests<3.0,>=2.0->ibm_watson) (3.0.4)\n",
      "\n"
     ]
    }
   ],
   "source": [
    "pip install ibm_watson"
   ]
  },
  {
   "cell_type": "code",
   "execution_count": 54,
   "metadata": {},
   "outputs": [],
   "source": [
    "from ibm_watson import SpeechToTextV1\n",
    "from ibm_cloud_sdk_core.authenticators import IAMAuthenticator"
   ]
  },
  {
   "cell_type": "code",
   "execution_count": 55,
   "metadata": {},
   "outputs": [],
   "source": [
    "apikey = '1RrX4HJTmU5HYsz0Zo8QXx9Y0FngeIhyGEv2Q1Va6bdT'\n",
    "url = 'https://api.us-south.speech-to-text.watson.cloud.ibm.com/instances/8a1e90c5-c336-4ef9-8692-5d0af83cdcfa'"
   ]
  },
  {
   "cell_type": "code",
   "execution_count": 56,
   "metadata": {},
   "outputs": [],
   "source": [
    "authenticator = IAMAuthenticator(apikey)\n",
    "stt = SpeechToTextV1(authenticator = authenticator)\n",
    "stt.set_service_url(url)"
   ]
  },
  {
   "cell_type": "code",
   "execution_count": 64,
   "metadata": {},
   "outputs": [
    {
     "data": {
      "text/plain": [
       "1"
      ]
     },
     "execution_count": 64,
     "metadata": {},
     "output_type": "execute_result"
    }
   ],
   "source": [
    "import subprocess \n",
    "import os\n",
    "command = 'ffmpeg -i audio_01_01.wav -vn -ar 44100 -ac 2 -b:a 192k audio.mp3'\n",
    "subprocess.call(command, shell=True)\n",
    "command = 'ffmpeg -i audio.mp3 -f segment -segment_time 360 -c copy %03d.mp3'\n",
    "subprocess.call(command, shell=True)"
   ]
  },
  {
   "cell_type": "code",
   "execution_count": 58,
   "metadata": {},
   "outputs": [],
   "source": [
    "files = []\n",
    "for filename in os.listdir('.'):\n",
    "    if filename.endswith(\".mp3\") and filename !='audio.mp3':\n",
    "        files.append(filename)\n",
    "files.sort()"
   ]
  },
  {
   "cell_type": "code",
   "execution_count": 59,
   "metadata": {},
   "outputs": [
    {
     "data": {
      "text/plain": [
       "[]"
      ]
     },
     "execution_count": 59,
     "metadata": {},
     "output_type": "execute_result"
    }
   ],
   "source": [
    "files"
   ]
  },
  {
   "cell_type": "code",
   "execution_count": 60,
   "metadata": {},
   "outputs": [],
   "source": [
    "results = []\n",
    "for filename in files:\n",
    "    with open(filename, 'rb') as f:\n",
    "        res = stt.recognize(audio=f, content_type='audio/mp3', model='en-AU_NarrowbandModel', continuous=True, \\\n",
    "                           inactivity_timeout=360).get_result()\n",
    "        results.append(res)"
   ]
  },
  {
   "cell_type": "code",
   "execution_count": 61,
   "metadata": {},
   "outputs": [],
   "source": [
    "text = []\n",
    "for file in results:\n",
    "    for result in file['results']:\n",
    "        text.append(result['alternatives'][0]['transcript'].rstrip() + '.\\n')"
   ]
  },
  {
   "cell_type": "code",
   "execution_count": 62,
   "metadata": {},
   "outputs": [
    {
     "data": {
      "text/plain": [
       "[]"
      ]
     },
     "execution_count": 62,
     "metadata": {},
     "output_type": "execute_result"
    }
   ],
   "source": [
    "text"
   ]
  },
  {
   "cell_type": "code",
   "execution_count": 63,
   "metadata": {},
   "outputs": [],
   "source": [
    "with open('output.txt', 'w') as out:\n",
    "    out.writelines(text)"
   ]
  },
  {
   "cell_type": "code",
   "execution_count": null,
   "metadata": {},
   "outputs": [],
   "source": []
  }
 ],
 "metadata": {
  "kernelspec": {
   "display_name": "Python 3",
   "language": "python",
   "name": "python3"
  },
  "language_info": {
   "codemirror_mode": {
    "name": "ipython",
    "version": 3
   },
   "file_extension": ".py",
   "mimetype": "text/x-python",
   "name": "python",
   "nbconvert_exporter": "python",
   "pygments_lexer": "ipython3",
   "version": "3.8.5"
  }
 },
 "nbformat": 4,
 "nbformat_minor": 4
}
