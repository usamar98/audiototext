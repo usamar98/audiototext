{
 "cells": [
  {
   "cell_type": "code",
   "execution_count": 9,
   "metadata": {},
   "outputs": [
    {
     "ename": "SyntaxError",
     "evalue": "unexpected EOF while parsing (<ipython-input-9-bb57c54377da>, line 22)",
     "output_type": "error",
     "traceback": [
      "\u001b[1;36m  File \u001b[1;32m\"<ipython-input-9-bb57c54377da>\"\u001b[1;36m, line \u001b[1;32m22\u001b[0m\n\u001b[1;33m    \u001b[0m\n\u001b[1;37m    ^\u001b[0m\n\u001b[1;31mSyntaxError\u001b[0m\u001b[1;31m:\u001b[0m unexpected EOF while parsing\n"
     ]
    }
   ],
   "source": [
    "import speech_recognition as sr\n",
    "import moviepy.editor as me\n",
    "\n",
    "VIDEO_FILE = \"video.mkv\"\n",
    "OUTPUT_AUDIO_FILE = \"converted.wav\"\n",
    "OUTPUT_TEXT_FILE = \"recognized.txt\"\n",
    "try:\n",
    "    video_clip = me.VideoFileClip(r\"{}\".format(VIDEO_FILE))\n",
    "    video_clip.audio.write_audiofile(r\"{}\".format(OUTPUT_AUDIO_FILE))\n",
    "    recognizer =  sr.Recognizer()\n",
    "    audio_clip = sr.AudioFile(\"{}\".format(OUTPUT_AUDIO_FILE))\n",
    "    with audio_clip as source:\n",
    "        audio_file = recognizer.record(source)\n",
    "    print(\"Please wait ...\")\n",
    "    result = recognizer.recognize_google(audio_file)\n",
    "    with open(OUTPUT_TEXT_FILE, 'w') as file:\n",
    "        file.write(result)\n",
    "        print(\"Speech to text conversion successfull.\")\n",
    "except Exception as e:\n",
    "    print(\"Attempt failed -- \", e)"
   ]
  },
  {
   "cell_type": "code",
   "execution_count": null,
   "metadata": {},
   "outputs": [],
   "source": []
  }
 ],
 "metadata": {
  "kernelspec": {
   "display_name": "Python 3",
   "language": "python",
   "name": "python3"
  },
  "language_info": {
   "codemirror_mode": {
    "name": "ipython",
    "version": 3
   },
   "file_extension": ".py",
   "mimetype": "text/x-python",
   "name": "python",
   "nbconvert_exporter": "python",
   "pygments_lexer": "ipython3",
   "version": "3.8.5"
  }
 },
 "nbformat": 4,
 "nbformat_minor": 4
}
